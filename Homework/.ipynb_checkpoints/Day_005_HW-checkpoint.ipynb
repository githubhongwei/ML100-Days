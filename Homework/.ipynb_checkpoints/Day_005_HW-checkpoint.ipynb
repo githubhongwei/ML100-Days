{
 "cells": [
  {
   "cell_type": "code",
   "execution_count": 4,
   "metadata": {},
   "outputs": [],
   "source": [
    "# Import 需要的套件\n",
    "import os\n",
    "import numpy as np\n",
    "import pandas as pd\n",
    "\n",
    "# 設定 data_path\n",
    "dir_data = './data/'"
   ]
  },
  {
   "cell_type": "code",
   "execution_count": 5,
   "metadata": {},
   "outputs": [],
   "source": [
    "f_app_train = os.path.join(dir_data, 'application_train.csv')\n",
    "app_train = pd.read_csv(f_app_train)"
   ]
  },
  {
   "cell_type": "code",
   "execution_count": 6,
   "metadata": {},
   "outputs": [],
   "source": [
    "import matplotlib.pyplot as plt\n",
    "%matplotlib inline"
   ]
  },
  {
   "cell_type": "markdown",
   "metadata": {},
   "source": [
    "## 練習時間"
   ]
  },
  {
   "cell_type": "markdown",
   "metadata": {},
   "source": [
    "觀察有興趣的欄位的資料分佈，並嘗試找出有趣的訊息\n",
    "#### Eg\n",
    "- 計算任意欄位的平均數及標準差\n",
    "- 畫出任意欄位的[直方圖](https://zh.wikipedia.org/zh-tw/%E7%9B%B4%E6%96%B9%E5%9B%BE)\n",
    "\n",
    "### Hints:\n",
    "- [Descriptive Statistics For pandas Dataframe](https://chrisalbon.com/python/data_wrangling/pandas_dataframe_descriptive_stats/)\n",
    "- [pandas 中的繪圖函數](https://amaozhao.gitbooks.io/pandas-notebook/content/pandas%E4%B8%AD%E7%9A%84%E7%BB%98%E5%9B%BE%E5%87%BD%E6%95%B0.html)\n"
   ]
  },
  {
   "cell_type": "code",
   "execution_count": 25,
   "metadata": {},
   "outputs": [
    {
     "name": "stdout",
     "output_type": "stream",
     "text": [
      "(307511, 122)\n",
      "總數 = 51907216960\n",
      "平均數 = 168797\n",
      "標準差 = 237123\n",
      "最小值 = 25650\n",
      "最小值位置 = 1678\n",
      "最大值 = 117000000\n",
      "最大值位置 = 12840\n",
      "中位值 = 147150\n"
     ]
    }
   ],
   "source": [
    "print(app_train.shape)\n",
    "\n",
    "train_sum = app_train.loc[:,\"AMT_INCOME_TOTAL\"].sum()\n",
    "train_mean = app_train.loc[:,\"AMT_INCOME_TOTAL\"].mean()\n",
    "train_std = app_train.loc[:,\"AMT_INCOME_TOTAL\"].std()\n",
    "train_min = app_train.loc[:,\"AMT_INCOME_TOTAL\"].min()\n",
    "train_idxmin = app_train.loc[:,\"AMT_INCOME_TOTAL\"].idxmin()\n",
    "train_max = app_train.loc[:,\"AMT_INCOME_TOTAL\"].max()\n",
    "train_idxmax = app_train.loc[:,\"AMT_INCOME_TOTAL\"].idxmax()\n",
    "train_median = app_train.loc[:,\"AMT_INCOME_TOTAL\"].median()\n",
    "\n",
    "print('總數 = %d' % train_sum)\n",
    "print('平均數 = %d' % train_mean)\n",
    "print('標準差 = %d' % train_std)\n",
    "print('最小值 = %d' % train_min)\n",
    "print('最小值位置 = %d' % train_idxmin)\n",
    "print('最大值 = %d' % train_max)\n",
    "print('最大值位置 = %d' % train_idxmax)\n",
    "print('中位值 = %d' % train_median)"
   ]
  },
  {
   "cell_type": "code",
   "execution_count": 27,
   "metadata": {},
   "outputs": [
    {
     "data": {
      "text/plain": [
       "<matplotlib.axes._subplots.AxesSubplot at 0x9b45668>"
      ]
     },
     "execution_count": 27,
     "metadata": {},
     "output_type": "execute_result"
    },
    {
     "data": {
      "image/png": "[encoded data removed]",
      "text/plain": [
       "<Figure size 432x288 with 1 Axes>"
      ]
     },
     "metadata": {
      "needs_background": "light"
     },
     "output_type": "display_data"
    }
   ],
   "source": [
    "app_train.loc[:,\"AMT_INCOME_TOTAL\"].plot.hist(bins=30)"
   ]
  },
  {
   "cell_type": "code",
   "execution_count": null,
   "metadata": {},
   "outputs": [],
   "source": []
  }
 ],
 "metadata": {
  "kernelspec": {
   "display_name": "Python 3",
   "language": "python",
   "name": "python3"
  },
  "language_info": {
   "codemirror_mode": {
    "name": "ipython",
    "version": 3
   },
   "file_extension": ".py",
   "mimetype": "text/x-python",
   "name": "python",
   "nbconvert_exporter": "python",
   "pygments_lexer": "ipython3",
   "version": "3.7.0"
  }
 },
 "nbformat": 4,
 "nbformat_minor": 2
}
